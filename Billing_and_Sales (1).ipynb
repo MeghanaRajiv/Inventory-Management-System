{
  "nbformat": 4,
  "nbformat_minor": 0,
  "metadata": {
    "colab": {
      "name": "Billing_and_Sales.ipynb",
      "provenance": []
    },
    "kernelspec": {
      "name": "python3",
      "display_name": "Python 3"
    },
    "language_info": {
      "name": "python"
    }
  },
  "cells": [
    {
      "cell_type": "markdown",
      "metadata": {
        "id": "2g757GWga5KT"
      },
      "source": [
        "## **Reading the data**"
      ]
    },
    {
      "cell_type": "code",
      "metadata": {
        "id": "UdARLPtVa_8O"
      },
      "source": [
        "import json\n",
        "\n",
        "fd = open(\"record.json\",'r')\n",
        "r = fd.read()\n",
        "fd.close()\n",
        "\n",
        "records = json.loads(r)"
      ],
      "execution_count": 1,
      "outputs": []
    },
    {
      "cell_type": "code",
      "metadata": {
        "colab": {
          "base_uri": "https://localhost:8080/"
        },
        "id": "sBBjj4UibBLS",
        "outputId": "abd47cbd-b899-473d-8750-380c618ebf31"
      },
      "source": [
        "#to check\n",
        "records"
      ],
      "execution_count": 2,
      "outputs": [
        {
          "output_type": "execute_result",
          "data": {
            "text/plain": [
              "{'1001': {'Name': 'Biscuit', 'Price': 50, 'Quantity': 100},\n",
              " '1002': {'Name': 'chips', 'Price': 10, 'Quantity': 450},\n",
              " '1003': {'Name': 'Shampoo', 'Price': 125, 'Quantity': 100},\n",
              " '1004': {'Name': 'Chocolate', 'Price': 10, 'Quantity': 1000},\n",
              " '1005': {'Name': 'Pen', 'Price': 20, 'Quantity': 100},\n",
              " '1006': {'Name': 'Oil', 'Price': 75, 'Quantity': 100},\n",
              " '1007': {'Name': 'Bottles', 'Price': 170, 'Quantity': 200},\n",
              " '1008': {'Name': 'Umbrella', 'Price': 300, 'Quantity': 30},\n",
              " '1009': {'Name': 'Graph', 'Price': 1, 'Quantity': 100},\n",
              " '1010': {'Name': 'Lipstick', 'Price': 70, 'Quantity': 50},\n",
              " '1011': {'Name': 'Comb', 'Price': 25, 'Quantity': 70},\n",
              " '1012': {'Name': 'Band', 'Price': 10, 'Quantity': 100},\n",
              " '1013': {'Name': 'Pencil', 'Price': 10, 'Quantity': 200},\n",
              " '1014': {'Name': 'Cutter', 'Price': 95, 'Quantity': 20},\n",
              " '1015': {'Name': 'Plates', 'Price': 25, 'Quantity': 100},\n",
              " '1016': {'Name': 'Hair Gel', 'Price': 200, 'Quantity': 80},\n",
              " '1017': {'Name': 'Towel', 'Price': 300, 'Quantity': 25},\n",
              " '1018': {'Name': 'Chair', 'Price': 575, 'Quantity': 10},\n",
              " '1019': {'Name': 'Frame', 'Price': 170, 'Quantity': 20},\n",
              " '1020': {'Name': 'Toys', 'Price': 300, 'Quantity': 30},\n",
              " '1021': {'Name': 'Cake', 'Price': 25, 'Quantity': 25},\n",
              " '1022': {'Name': 'Ice cream', 'Price': 10, 'Quantity': 200},\n",
              " '1023': {'Name': 'Milk', 'Price': 25, 'Quantity': 60},\n",
              " '1024': {'Name': 'Butter', 'Price': 185, 'Quantity': 30},\n",
              " '1025': {'Name': 'Paneer', 'Price': 190, 'Quantity': 25},\n",
              " '1026': {'Name': 'Mask', 'Price': 15, 'Quantity': 300},\n",
              " '1027': {'Name': 'Socks', 'Price': 170, 'Quantity': 100},\n",
              " '1028': {'Name': 'Pouch', 'Price': 30, 'Quantity': 100},\n",
              " '1029': {'Name': 'Scissors', 'Price': 90, 'Quantity': 100},\n",
              " '1031': {'Name': 'oil', 'Price': 50, 'Quantity': 1}}"
            ]
          },
          "metadata": {},
          "execution_count": 2
        }
      ]
    },
    {
      "cell_type": "markdown",
      "metadata": {
        "id": "vcqCkQwecOjL"
      },
      "source": [
        "## **Billing**"
      ]
    },
    {
      "cell_type": "code",
      "metadata": {
        "id": "JNPv5Q-db5Hu"
      },
      "source": [
        "sales={1:{'prod id':1001,'Quantity':2,'Amount':50}}"
      ],
      "execution_count": 3,
      "outputs": []
    },
    {
      "cell_type": "code",
      "metadata": {
        "colab": {
          "base_uri": "https://localhost:8080/"
        },
        "id": "RN15MmYKcVIh",
        "outputId": "a676d39e-edeb-450f-a6ff-1f88f2a7060f"
      },
      "source": [
        "n=int(input(\"No of items:\"))\n",
        "print(\"----------------------------------------\")\n",
        "itemnum=1\n",
        "total=0\n",
        "while (itemnum<=n):  \n",
        "  ui_prod  = str(input(\"Enter the product_Id: \"))\n",
        "  ui_quant = int(input(\"Enter the quantity: \"))\n",
        "  if ui_prod not in records.keys():\n",
        "    print(\"ITEM DOES NOT EXISTS\")\n",
        "    print(\"----------------------------------------\")\n",
        "    itemnum+=1\n",
        "  else:\n",
        "    billing={}\n",
        "    print(\"          Product: \", records[ui_prod]['Name'])\n",
        "    print(\"          Price: \", records[ui_prod]['Price'])\n",
        "    print(\"          Billing Amount: \", records[ui_prod]['Price'] * ui_quant)\n",
        "    print(\"----------------------------------------\")\n",
        "    records[ui_prod]['Quantity'] = records[ui_prod]['Quantity'] - ui_quant\n",
        "    tot_cost=(records[str(ui_prod)][\"Price\"]*ui_quant)\n",
        "    total+=tot_cost\n",
        "    itemnum+=1\n",
        "    sales[len(sales)+1] = {'prod_id': ui_prod, 'Quantity': ui_quant, 'Amount':  ui_quant*records[ui_prod]['Price']}\n",
        "\n",
        "else:\n",
        "  print(\"TOTAL BILLING AMOUNT:\",total)\n",
        "  print(\"----------------------------------------\")\n",
        "  print(\"***************THANKYOU***************\")"
      ],
      "execution_count": 8,
      "outputs": [
        {
          "output_type": "stream",
          "name": "stdout",
          "text": [
            "No of items:6\n",
            "----------------------------------------\n",
            "Enter the product_Id: 1006\n",
            "Enter the quantity: 2\n",
            "          Product:  Oil\n",
            "          Price:  75\n",
            "          Billing Amount:  150\n",
            "----------------------------------------\n",
            "Enter the product_Id: 1020\n",
            "Enter the quantity: 5\n",
            "          Product:  Toys\n",
            "          Price:  300\n",
            "          Billing Amount:  1500\n",
            "----------------------------------------\n",
            "Enter the product_Id: 1015\n",
            "Enter the quantity: 7\n",
            "          Product:  Plates\n",
            "          Price:  25\n",
            "          Billing Amount:  175\n",
            "----------------------------------------\n",
            "Enter the product_Id: 1019\n",
            "Enter the quantity: 3\n",
            "          Product:  Frame\n",
            "          Price:  170\n",
            "          Billing Amount:  510\n",
            "----------------------------------------\n",
            "Enter the product_Id: 1003\n",
            "Enter the quantity: 1\n",
            "          Product:  Shampoo\n",
            "          Price:  125\n",
            "          Billing Amount:  125\n",
            "----------------------------------------\n",
            "Enter the product_Id: 1007\n",
            "Enter the quantity: 2\n",
            "          Product:  Bottles\n",
            "          Price:  170\n",
            "          Billing Amount:  340\n",
            "----------------------------------------\n",
            "TOTAL BILLING AMOUNT: 2800\n",
            "----------------------------------------\n",
            "***************THANKYOU***************\n"
          ]
        }
      ]
    },
    {
      "cell_type": "code",
      "metadata": {
        "colab": {
          "base_uri": "https://localhost:8080/"
        },
        "id": "MCOU2iJbcXtR",
        "outputId": "1e909aea-f90e-4081-bb12-cc7cc2ddafd9"
      },
      "source": [
        "records"
      ],
      "execution_count": 9,
      "outputs": [
        {
          "output_type": "execute_result",
          "data": {
            "text/plain": [
              "{'1001': {'Name': 'Biscuit', 'Price': 50, 'Quantity': 100},\n",
              " '1002': {'Name': 'chips', 'Price': 10, 'Quantity': 450},\n",
              " '1003': {'Name': 'Shampoo', 'Price': 125, 'Quantity': 98},\n",
              " '1004': {'Name': 'Chocolate', 'Price': 10, 'Quantity': 1000},\n",
              " '1005': {'Name': 'Pen', 'Price': 20, 'Quantity': 98},\n",
              " '1006': {'Name': 'Oil', 'Price': 75, 'Quantity': 98},\n",
              " '1007': {'Name': 'Bottles', 'Price': 170, 'Quantity': 198},\n",
              " '1008': {'Name': 'Umbrella', 'Price': 300, 'Quantity': 25},\n",
              " '1009': {'Name': 'Graph', 'Price': 1, 'Quantity': 100},\n",
              " '1010': {'Name': 'Lipstick', 'Price': 70, 'Quantity': 47},\n",
              " '1011': {'Name': 'Comb', 'Price': 25, 'Quantity': 70},\n",
              " '1012': {'Name': 'Band', 'Price': 10, 'Quantity': 100},\n",
              " '1013': {'Name': 'Pencil', 'Price': 10, 'Quantity': 200},\n",
              " '1014': {'Name': 'Cutter', 'Price': 95, 'Quantity': 20},\n",
              " '1015': {'Name': 'Plates', 'Price': 25, 'Quantity': 93},\n",
              " '1016': {'Name': 'Hair Gel', 'Price': 200, 'Quantity': 80},\n",
              " '1017': {'Name': 'Towel', 'Price': 300, 'Quantity': 25},\n",
              " '1018': {'Name': 'Chair', 'Price': 575, 'Quantity': 10},\n",
              " '1019': {'Name': 'Frame', 'Price': 170, 'Quantity': 17},\n",
              " '1020': {'Name': 'Toys', 'Price': 300, 'Quantity': 25},\n",
              " '1021': {'Name': 'Cake', 'Price': 25, 'Quantity': 25},\n",
              " '1022': {'Name': 'Ice cream', 'Price': 10, 'Quantity': 200},\n",
              " '1023': {'Name': 'Milk', 'Price': 25, 'Quantity': 60},\n",
              " '1024': {'Name': 'Butter', 'Price': 185, 'Quantity': 30},\n",
              " '1025': {'Name': 'Paneer', 'Price': 190, 'Quantity': 25},\n",
              " '1026': {'Name': 'Mask', 'Price': 15, 'Quantity': 300},\n",
              " '1027': {'Name': 'Socks', 'Price': 170, 'Quantity': 100},\n",
              " '1028': {'Name': 'Pouch', 'Price': 30, 'Quantity': 100},\n",
              " '1029': {'Name': 'Scissors', 'Price': 90, 'Quantity': 100},\n",
              " '1031': {'Name': 'oil', 'Price': 50, 'Quantity': 1}}"
            ]
          },
          "metadata": {},
          "execution_count": 9
        }
      ]
    },
    {
      "cell_type": "code",
      "metadata": {
        "id": "EJT7BMapdNnz"
      },
      "source": [
        "#updating inventories after purchase\n",
        "js = json.dumps(records)\n",
        "\n",
        "fd = open(\"record.json\",'w')\n",
        "fd.write(js)\n",
        "fd.close()"
      ],
      "execution_count": 10,
      "outputs": []
    },
    {
      "cell_type": "markdown",
      "metadata": {
        "id": "9Nk3ygtHc_-n"
      },
      "source": [
        "### **Sales Report**"
      ]
    },
    {
      "cell_type": "code",
      "metadata": {
        "colab": {
          "base_uri": "https://localhost:8080/"
        },
        "id": "-xMjiM2vvhwi",
        "outputId": "7f5c90c6-8335-43cf-bb3f-e81d06832fb1"
      },
      "source": [
        "sales"
      ],
      "execution_count": 11,
      "outputs": [
        {
          "output_type": "execute_result",
          "data": {
            "text/plain": [
              "{1: {'Amount': 50, 'Quantity': 2, 'prod id': 1001},\n",
              " 2: {'Amount': 40, 'Quantity': 2, 'prod_id': '1005'},\n",
              " 3: {'Amount': 125, 'Quantity': 1, 'prod_id': '1003'},\n",
              " 4: {'Amount': 210, 'Quantity': 3, 'prod_id': '1010'},\n",
              " 5: {'Amount': 1500, 'Quantity': 5, 'prod_id': '1008'},\n",
              " 6: {'Amount': 150, 'Quantity': 2, 'prod_id': '1006'},\n",
              " 7: {'Amount': 1500, 'Quantity': 5, 'prod_id': '1020'},\n",
              " 8: {'Amount': 175, 'Quantity': 7, 'prod_id': '1015'},\n",
              " 9: {'Amount': 510, 'Quantity': 3, 'prod_id': '1019'},\n",
              " 10: {'Amount': 125, 'Quantity': 1, 'prod_id': '1003'},\n",
              " 11: {'Amount': 340, 'Quantity': 2, 'prod_id': '1007'}}"
            ]
          },
          "metadata": {},
          "execution_count": 11
        }
      ]
    },
    {
      "cell_type": "code",
      "metadata": {
        "id": "X7yW-_o0viaQ"
      },
      "source": [
        ""
      ],
      "execution_count": null,
      "outputs": []
    }
  ]
}